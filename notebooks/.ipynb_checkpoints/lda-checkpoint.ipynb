{
 "cells": [
  {
   "cell_type": "code",
   "execution_count": 1,
   "metadata": {},
   "outputs": [
    {
     "data": {
      "text/plain": [
       "\u001b[32mimport \u001b[39m\u001b[36mcoursier.MavenRepository\n",
       "\n",
       "\u001b[39m"
      ]
     },
     "execution_count": 1,
     "metadata": {},
     "output_type": "execute_result"
    }
   ],
   "source": [
    "import coursier.MavenRepository\n",
    "\n",
    "interp.repositories() ++= Seq(MavenRepository(\n",
    "  \"http://dl.bintray.com/cibotech/public\"\n",
    "))"
   ]
  },
  {
   "cell_type": "code",
   "execution_count": 3,
   "metadata": {},
   "outputs": [
    {
     "data": {
      "text/plain": [
       "\u001b[32mimport \u001b[39m\u001b[36m$ivy.$                               \n",
       "\u001b[39m\n",
       "\u001b[32mimport \u001b[39m\u001b[36m$ivy.$                               \n",
       "\u001b[39m\n",
       "\u001b[32mimport \u001b[39m\u001b[36m$ivy.$                            \n",
       "\u001b[39m\n",
       "\u001b[32mimport \u001b[39m\u001b[36mcom.stripe.rainier.core._\n",
       "\u001b[39m\n",
       "\u001b[32mimport \u001b[39m\u001b[36mcom.stripe.rainier.sampler._\u001b[39m"
      ]
     },
     "execution_count": 3,
     "metadata": {},
     "output_type": "execute_result"
    }
   ],
   "source": [
    "import $ivy.`com.stripe::rainier-core:0.2.2`\n",
    "import $ivy.`com.stripe::rainier-plot:0.2.2`\n",
    "import $ivy.`org.scalanlp::breeze:0.13.2`\n",
    "import com.stripe.rainier.core._\n",
    "import com.stripe.rainier.sampler._"
   ]
  },
  {
   "cell_type": "code",
   "execution_count": 3,
   "metadata": {},
   "outputs": [
    {
     "data": {
      "text/plain": [
       "defined \u001b[32mclass\u001b[39m \u001b[36mParameters\u001b[39m\n",
       "defined \u001b[32mfunction\u001b[39m \u001b[36mlda\u001b[39m"
      ]
     },
     "execution_count": 3,
     "metadata": {},
     "output_type": "execute_result"
    }
   ],
   "source": [
    "case class Parameters(alpha: Array[Double], beta: Array[Double])\n",
    "\n",
    "// generative process\n",
    "def lda(p: Parameters) = for {\n",
    "    theta <- Dirichlet(p.alpha)\n",
    "    phi <- Dirichlet(p.beta)\n",
    "    topic <- Multinomial(theta)\n",
    "    word <- Multinomial(phi)\n",
    "} yield (topic, word)"
   ]
  },
  {
   "cell_type": "code",
   "execution_count": 33,
   "metadata": {},
   "outputs": [
    {
     "data": {
      "text/plain": [
       "\u001b[36mss\u001b[39m: \u001b[32mList\u001b[39m[\u001b[32mString\u001b[39m] = \u001b[33mList\u001b[39m(\n",
       "  \u001b[32m\"\\ufeff\"\u001b[39m,\n",
       "  \u001b[32m\"Project Gutenberg\\u2019s The Complete Works of William Shakespeare, by William\"\u001b[39m,\n",
       "  \u001b[32m\"Shakespeare\"\u001b[39m,\n",
       "  \u001b[32m\"\"\u001b[39m,\n",
       "  \u001b[32m\"This eBook is for the use of anyone anywhere in the United States and\"\u001b[39m,\n",
       "  \u001b[32m\"most other parts of the world at no cost and with almost no restrictions\"\u001b[39m,\n",
       "  \u001b[32m\"whatsoever.  You may copy it, give it away or re-use it under the terms\"\u001b[39m,\n",
       "  \u001b[32m\"of the Project Gutenberg License included with this eBook or online at\"\u001b[39m,\n",
       "  \u001b[32m\"www.gutenberg.org.  If you are not located in the United States, you\\u2019ll\"\u001b[39m,\n",
       "  \u001b[32m\"have to check the laws of the country where you are located before using\"\u001b[39m,\n",
       "  \u001b[32m\"this ebook.\"\u001b[39m,\n",
       "  \u001b[32m\"\"\u001b[39m,\n",
       "  \u001b[32m\"See at the end of this file: * CONTENT NOTE (added in 2017) *\"\u001b[39m,\n",
       "  \u001b[32m\"\"\u001b[39m,\n",
       "  \u001b[32m\"\"\u001b[39m,\n",
       "  \u001b[32m\"Title: The Complete Works of William Shakespeare\"\u001b[39m,\n",
       "  \u001b[32m\"\"\u001b[39m,\n",
       "  \u001b[32m\"Author: William Shakespeare\"\u001b[39m,\n",
       "  \u001b[32m\"\"\u001b[39m,\n",
       "  \u001b[32m\"Release Date: January 1994 [EBook #100]\"\u001b[39m,\n",
       "  \u001b[32m\"Last Updated: March 9, 2019\"\u001b[39m,\n",
       "  \u001b[32m\"\"\u001b[39m,\n",
       "  \u001b[32m\"Language: English\"\u001b[39m,\n",
       "  \u001b[32m\"\"\u001b[39m,\n",
       "  \u001b[32m\"Character set encoding: UTF-8\"\u001b[39m,\n",
       "  \u001b[32m\"\"\u001b[39m,\n",
       "  \u001b[32m\"*** START OF THIS PROJECT GUTENBERG EBOOK THE COMPLETE WORKS OF WILLIAM SHAKESPEARE ***\"\u001b[39m,\n",
       "  \u001b[32m\"\"\u001b[39m,\n",
       "  \u001b[32m\"\"\u001b[39m,\n",
       "  \u001b[32m\"\"\u001b[39m,\n",
       "  \u001b[32m\"\"\u001b[39m,\n",
       "  \u001b[32m\"The Complete Works of William Shakespeare\"\u001b[39m,\n",
       "  \u001b[32m\"\"\u001b[39m,\n",
       "  \u001b[32m\"\"\u001b[39m,\n",
       "  \u001b[32m\"\"\u001b[39m,\n",
       "..."
      ]
     },
     "execution_count": 33,
     "metadata": {},
     "output_type": "execute_result"
    }
   ],
   "source": [
    "// import the complete works of shakespeare\n",
    "val ss = scala.io.Source.fromFile(\"/Users/jonnylaw/Downloads/shakespeare.txt\", \"UTF-8\").getLines.toArray"
   ]
  },
  {
   "cell_type": "code",
   "execution_count": 46,
   "metadata": {},
   "outputs": [
    {
     "data": {
      "text/plain": [
       "\u001b[36mtotalLines\u001b[39m: \u001b[32mInt\u001b[39m = \u001b[32m157256\u001b[39m\n",
       "\u001b[36mshakespeare\u001b[39m: \u001b[32mList\u001b[39m[\u001b[32mString\u001b[39m] = \u001b[33mList\u001b[39m(\n",
       "  \u001b[32m\"THE SONNETS\"\u001b[39m,\n",
       "  \u001b[32m\"\"\u001b[39m,\n",
       "  \u001b[32m\" 1\"\u001b[39m,\n",
       "  \u001b[32m\"\"\u001b[39m,\n",
       "  \u001b[32m\"From fairest creatures we desire increase,\"\u001b[39m,\n",
       "  \u001b[32m\"That thereby beauty's rose might never die,\"\u001b[39m,\n",
       "  \u001b[32m\"But as the riper should by time decease,\"\u001b[39m,\n",
       "  \u001b[32m\"His tender heir might bear his memory:\"\u001b[39m,\n",
       "  \u001b[32m\"But thou contracted to thine own bright eyes,\"\u001b[39m,\n",
       "  \u001b[32m\"Feed'st thy light's flame with self-substantial fuel,\"\u001b[39m,\n",
       "  \u001b[32m\"Making a famine where abundance lies,\"\u001b[39m,\n",
       "  \u001b[32m\"Thy self thy foe, to thy sweet self too cruel:\"\u001b[39m,\n",
       "  \u001b[32m\"Thou that art now the world's fresh ornament,\"\u001b[39m,\n",
       "  \u001b[32m\"And only herald to the gaudy spring,\"\u001b[39m,\n",
       "  \u001b[32m\"Within thine own bud buriest thy content,\"\u001b[39m,\n",
       "  \u001b[32m\"And, tender churl, mak'st waste in niggarding:\"\u001b[39m,\n",
       "  \u001b[32m\" Pity the world, or else this glutton be,\"\u001b[39m,\n",
       "  \u001b[32m\" To eat the world's due, by the grave and thee.\"\u001b[39m,\n",
       "  \u001b[32m\"\"\u001b[39m,\n",
       "  \u001b[32m\"\"\u001b[39m,\n",
       "  \u001b[32m\" 2\"\u001b[39m,\n",
       "  \u001b[32m\"\"\u001b[39m,\n",
       "  \u001b[32m\"When forty winters shall besiege thy brow,\"\u001b[39m,\n",
       "  \u001b[32m\"And dig deep trenches in thy beauty's field,\"\u001b[39m,\n",
       "  \u001b[32m\"Thy youth's proud livery so gazed on now,\"\u001b[39m,\n",
       "  \u001b[32m\"Will be a tattered weed of small worth held:\"\u001b[39m,\n",
       "  \u001b[32m\"Then being asked, where all thy beauty lies,\"\u001b[39m,\n",
       "  \u001b[32m\"Where all the treasure of thy lusty days;\"\u001b[39m,\n",
       "  \u001b[32m\"To say, within thine own deep sunken eyes,\"\u001b[39m,\n",
       "  \u001b[32m\"Were an all-eating shame, and thriftless praise.\"\u001b[39m,\n",
       "  \u001b[32m\"How much more praise deserv'd thy beauty's use,\"\u001b[39m,\n",
       "  \u001b[32m\"If thou couldst answer 'This fair child of mine\"\u001b[39m,\n",
       "  \u001b[32m\"Shall sum my count, and make my old excuse,'\"\u001b[39m,\n",
       "  \u001b[32m\"Proving his beauty by succession thine.\"\u001b[39m,\n",
       "  \u001b[32m\" This were to be new made when thou art old,\"\u001b[39m,\n",
       "  \u001b[32m\" And see thy blood warm when thou feel'st it cold.\"\u001b[39m,\n",
       "  \u001b[32m\"\"\u001b[39m,\n",
       "  \u001b[32m\"\"\u001b[39m,\n",
       "..."
      ]
     },
     "execution_count": 46,
     "metadata": {},
     "output_type": "execute_result"
    }
   ],
   "source": [
    "val totalLines = ss.size\n",
    "// replace unicode-quotation marks\n",
    "val shakespeare = ss.slice(137, ss.size - 425).\n",
    "    map(l => l.split(\"\\\\s+\").\n",
    "           map(w => w.replace(\"\\u2018\", \"'\").replace(\"\\u2019\", \"'\")).\n",
    "           mkString(\" \"))"
   ]
  },
  {
   "cell_type": "code",
   "execution_count": 100,
   "metadata": {},
   "outputs": [
    {
     "data": {
      "text/plain": [
       "\u001b[36mplays\u001b[39m: \u001b[32mVector\u001b[39m[\u001b[32mVector\u001b[39m[\u001b[32mString\u001b[39m]] = \u001b[33mVector\u001b[39m(\n",
       "  \u001b[33mVector\u001b[39m(\n",
       "    \u001b[32m\"the sonnets\"\u001b[39m,\n",
       "    \u001b[32m\"from fairest creatures we desire increase\"\u001b[39m,\n",
       "    \u001b[32m\"that thereby beauty s rose might never die\"\u001b[39m,\n",
       "    \u001b[32m\"but as the riper should by time decease\"\u001b[39m,\n",
       "    \u001b[32m\"his tender heir might bear his memory\"\u001b[39m,\n",
       "    \u001b[32m\"but thou contracted to thine own bright eyes\"\u001b[39m,\n",
       "    \u001b[32m\"feed st thy light s flame with self substantial fuel\"\u001b[39m,\n",
       "    \u001b[32m\"making a famine where abundance lies\"\u001b[39m,\n",
       "    \u001b[32m\"thy self thy foe to thy sweet self too cruel\"\u001b[39m,\n",
       "    \u001b[32m\"thou that art now the world s fresh ornament\"\u001b[39m,\n",
       "    \u001b[32m\"and only herald to the gaudy spring\"\u001b[39m,\n",
       "    \u001b[32m\"within thine own bud buriest thy content\"\u001b[39m,\n",
       "    \u001b[32m\"and tender churl mak st waste in niggarding\"\u001b[39m,\n",
       "    \u001b[32m\"pity the world or else this glutton be\"\u001b[39m,\n",
       "    \u001b[32m\"to eat the world s due by the grave and thee\"\u001b[39m,\n",
       "    \u001b[32m\"when forty winters shall besiege thy brow\"\u001b[39m,\n",
       "    \u001b[32m\"and dig deep trenches in thy beauty s field\"\u001b[39m,\n",
       "    \u001b[32m\"thy youth s proud livery so gazed on now\"\u001b[39m,\n",
       "    \u001b[32m\"will be a tattered weed of small worth held\"\u001b[39m,\n",
       "    \u001b[32m\"then being asked where all thy beauty lies\"\u001b[39m,\n",
       "    \u001b[32m\"where all the treasure of thy lusty days\"\u001b[39m,\n",
       "    \u001b[32m\"to say within thine own deep sunken eyes\"\u001b[39m,\n",
       "    \u001b[32m\"were an all eating shame and thriftless praise\"\u001b[39m,\n",
       "    \u001b[32m\"how much more praise deserv d thy beauty s use\"\u001b[39m,\n",
       "    \u001b[32m\"if thou couldst answer this fair child of mine\"\u001b[39m,\n",
       "    \u001b[32m\"shall sum my count and make my old excuse\"\u001b[39m,\n",
       "    \u001b[32m\"proving his beauty by succession thine\"\u001b[39m,\n",
       "    \u001b[32m\"this were to be new made when thou art old\"\u001b[39m,\n",
       "    \u001b[32m\"and see thy blood warm when thou feel st it cold\"\u001b[39m,\n",
       "    \u001b[32m\"look in thy glass and tell the face thou viewest\"\u001b[39m,\n",
       "    \u001b[32m\"now is the time that face should form another\"\u001b[39m,\n",
       "    \u001b[32m\"whose fresh repair if now thou not renewest\"\u001b[39m,\n",
       "    \u001b[32m\"thou dost beguile the world unbless some mother\"\u001b[39m,\n",
       "    \u001b[32m\"for where is she so fair whose uneared womb\"\u001b[39m,\n",
       "    \u001b[32m\"disdains the tillage of thy husbandry\"\u001b[39m,\n",
       "    \u001b[32m\"or who is he so fond will be the tomb\"\u001b[39m,\n",
       "    \u001b[32m\"of his self love to stop posterity\"\u001b[39m,\n",
       "..."
      ]
     },
     "execution_count": 100,
     "metadata": {},
     "output_type": "execute_result"
    }
   ],
   "source": [
    "// split on THE END\n",
    "// remove punctuation and make lower case\n",
    "val plays = shakespeare.\n",
    "//     filter(l => l != \"\").\n",
    "    foldLeft(Vector.empty[Vector[String]]){\n",
    "        case (acc, i) if acc.isEmpty => Vector(Vector(i))\n",
    "        case (acc, \"THE END\") => acc :+ Vector(\"THE END\")\n",
    "        case (acc, i) => acc.init :+ (acc.last :+ i)\n",
    "    }.\n",
    "    map(play => play.map(line => \"[a-zA-Z]+\".r.findAllIn(line).map(_.toLowerCase).toArray.mkString(\" \"))).\n",
    "    map(_.filter(l => l != \"\" && l != \"the end\"))"
   ]
  },
  {
   "cell_type": "code",
   "execution_count": 102,
   "metadata": {},
   "outputs": [
    {
     "data": {
      "text/plain": [
       "\u001b[36mtitles\u001b[39m: \u001b[32mVector\u001b[39m[\u001b[32mString\u001b[39m] = \u001b[33mVector\u001b[39m(\n",
       "  \u001b[32m\"the sonnets\"\u001b[39m,\n",
       "  \u001b[32m\"all s well that ends well\"\u001b[39m,\n",
       "  \u001b[32m\"as you like it\"\u001b[39m,\n",
       "  \u001b[32m\"the comedy of errors\"\u001b[39m,\n",
       "  \u001b[32m\"the tragedy of coriolanus\"\u001b[39m,\n",
       "  \u001b[32m\"cymbeline\"\u001b[39m,\n",
       "  \u001b[32m\"the tragedy of hamlet prince of denmark\"\u001b[39m,\n",
       "  \u001b[32m\"the life of king henry the fifth\"\u001b[39m,\n",
       "  \u001b[32m\"the first part of henry the sixth\"\u001b[39m,\n",
       "  \u001b[32m\"the second part of king henry the sixth\"\u001b[39m,\n",
       "  \u001b[32m\"the third part of king henry the sixth\"\u001b[39m,\n",
       "  \u001b[32m\"king henry the eighth\"\u001b[39m,\n",
       "  \u001b[32m\"king john\"\u001b[39m,\n",
       "  \u001b[32m\"the tragedy of julius caesar\"\u001b[39m,\n",
       "  \u001b[32m\"macbeth\"\u001b[39m,\n",
       "  \u001b[32m\"the merchant of venice\"\u001b[39m,\n",
       "  \u001b[32m\"a midsummer night s dream\"\u001b[39m,\n",
       "  \u001b[32m\"pericles prince of tyre\"\u001b[39m,\n",
       "  \u001b[32m\"king richard the third\"\u001b[39m,\n",
       "  \u001b[32m\"the tragedy of romeo and juliet\"\u001b[39m,\n",
       "  \u001b[32m\"the life of timon of athens\"\u001b[39m,\n",
       "  \u001b[32m\"the tragedy of titus andronicus\"\u001b[39m,\n",
       "  \u001b[32m\"the history of troilus and cressida\"\u001b[39m,\n",
       "  \u001b[32m\"the two noble kinsmen\"\u001b[39m,\n",
       "  \u001b[32m\"a lover s complaint\"\u001b[39m\n",
       ")"
      ]
     },
     "execution_count": 102,
     "metadata": {},
     "output_type": "execute_result"
    }
   ],
   "source": [
    "val titles = plays.map(play => play.head)"
   ]
  },
  {
   "cell_type": "code",
   "execution_count": null,
   "metadata": {},
   "outputs": [],
   "source": []
  }
 ],
 "metadata": {
  "kernelspec": {
   "display_name": "Scala",
   "language": "scala",
   "name": "scala"
  },
  "language_info": {
   "codemirror_mode": "text/x-scala",
   "file_extension": ".scala",
   "mimetype": "text/x-scala",
   "name": "scala",
   "nbconvert_exporter": "script",
   "version": "2.12.8"
  }
 },
 "nbformat": 4,
 "nbformat_minor": 2
}
